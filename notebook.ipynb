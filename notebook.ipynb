{
 "cells": [
  {
   "cell_type": "code",
   "execution_count": 1,
   "id": "675f003f-f8cb-4852-a6e6-a6a9bfeb4d61",
   "metadata": {},
   "outputs": [],
   "source": [
    "from langchain.agents import load_tools, initialize_agent, AgentType\n",
    "from langchain.llms import OpenAI\n",
    "import os"
   ]
  },
  {
   "cell_type": "code",
   "execution_count": 2,
   "id": "52f1accd-bd39-4129-af9d-29acee3b5508",
   "metadata": {},
   "outputs": [],
   "source": [
    "# Import the API key\n",
    "import os\n",
    "\n",
    "api_key = os.environ.get(\"OPENAI_API_KEY\")\n",
    "\n",
    "if api_key is None:\n",
    "    raise Exception(\"Please set your OPENAI_API_KEY environment variable.\")\n",
    "\n",
    "# print(\"API Key:\", api_key)\n"
   ]
  },
  {
   "cell_type": "code",
   "execution_count": 3,
   "id": "09279000-d11c-420d-bbab-d52ef8226e9b",
   "metadata": {},
   "outputs": [],
   "source": [
    "# Initialize the OpenAI model\n",
    "llm = OpenAI(temperature=0.0)\n",
    "\n",
    "# Load tools and initialize the agent\n",
    "tools = load_tools([\"wikipedia\"], llm)\n",
    "agent = initialize_agent(tools, llm, AgentType.ZERO_SHOT_REACT_DESCRIPTION, verbose=True)\n",
    "\n"
   ]
  },
  {
   "cell_type": "code",
   "execution_count": 4,
   "id": "83f2e6e0-85ab-4317-8f4e-6bdbc481c0b9",
   "metadata": {},
   "outputs": [
    {
     "name": "stdout",
     "output_type": "stream",
     "text": [
      "\n",
      "\n",
      "\u001b[1m> Entering new AgentExecutor chain...\u001b[0m\n",
      "\u001b[32;1m\u001b[1;3m I need to find out who has contributed to the Wikipedia page on Quantum Physics\n",
      "Action: Wikipedia\n",
      "Action Input: Quantum Physics\u001b[0m\n",
      "Observation: \u001b[36;1m\u001b[1;3mPage: Quantum mechanics\n",
      "Summary: Quantum mechanics is a fundamental theory in physics that describes the behavior of nature at the scale of atoms and subatomic particles.: 1.1  It is the foundation of all quantum physics including quantum chemistry, quantum field theory, quantum technology, and quantum information science.\n",
      "Classical physics, the collection of theories that existed before the advent of quantum mechanics, describes many aspects of nature at an ordinary (macroscopic) scale, but is not sufficient for describing them at small (atomic and subatomic) scales. Most theories in classical physics can be derived from quantum mechanics as an approximation valid at large (macroscopic) scale.Quantum mechanics differs from classical physics in that energy, momentum, angular momentum, and other quantities of a bound system are restricted to discrete values (quantization); objects have characteristics of both particles and waves (wave–particle duality); and there are limits to how accurately the value of a physical quantity can be predicted prior to its measurement, given a complete set of initial conditions (the uncertainty principle).\n",
      "Quantum mechanics arose gradually from theories to explain observations that could not be reconciled with classical physics, such as Max Planck's solution in 1900 to the black-body radiation problem, and the correspondence between energy and frequency in Albert Einstein's 1905 paper, which explained the photoelectric effect. These early attempts to understand microscopic phenomena, now known as the \"old quantum theory\", led to the full development of quantum mechanics in the mid-1920s by Niels Bohr, Erwin Schrödinger, Werner Heisenberg, Max Born, Paul Dirac and others. The modern theory is formulated in various specially developed mathematical formalisms. In one of them, a mathematical entity called the wave function provides information, in the form of probability amplitudes, about what measurements of a particle's energy, momentum, and other physical properties may yield.\n",
      "\n",
      "Page: Observer (quantum physics)\n",
      "Summary: Some interpretations of quantum mechanics posit a central role for an observer of a quantum phenomenon. The quantum mechanical observer is tied to the issue of observer effect, where a measurement necessarily requires interacting with the physical object being measured, affecting its properties through the interaction. The term \"observable\" has gained a technical meaning, denoting a Hermitian operator that represents a measurement.: 55 The prominence of seemingly subjective or anthropocentric ideas like \"observer\" in the early development of the theory has been a continuing source of disquiet and philosophical dispute.  A number of new-age religious or philosophical views give the observer a more special role, or place constraints on who or what can be an observer. There is no credible peer-reviewed research that backs such claims. As an example of such claims, Fritjof Capra declared, \"The crucial feature of atomic physics is that the human observer is not only necessary to observe the properties of an object, but is necessary even to define these properties.\"The Copenhagen interpretation, which is the most widely accepted interpretation of quantum mechanics among physicists,: 248  posits that an \"observer\" or a \"measurement\" is merely a physical process. One of the founders of the Copenhagen interpretation, Werner Heisenberg, wrote:\n",
      "\n",
      "Of course the introduction of the observer must not be misunderstood to imply that some kind of subjective features are to be brought into the description of nature. The observer has, rather, only the function of registering decisions, i.e., processes in space and time, and it does not matter whether the observer is an apparatus or a human being; but the registration, i.e., the transition from the \"possible\" to the \"actual,\" is absolutely necessary here and cannot be omitted from the interpretation of quantum theory.\n",
      "Niels Bohr, also a founder of the Co\u001b[0m\n",
      "Thought:\u001b[32;1m\u001b[1;3m I now know the names of some notable contributors to the Wikipedia page on Quantum Physics\n",
      "Final Answer: Notable contributors to the Wikipedia page on Quantum Physics include Max Planck, Albert Einstein, Niels Bohr, Erwin Schrödinger, Werner Heisenberg, Max Born, and Paul Dirac.\u001b[0m\n",
      "\n",
      "\u001b[1m> Finished chain.\u001b[0m\n"
     ]
    },
    {
     "data": {
      "text/plain": [
       "'Notable contributors to the Wikipedia page on Quantum Physics include Max Planck, Albert Einstein, Niels Bohr, Erwin Schrödinger, Werner Heisenberg, Max Born, and Paul Dirac.'"
      ]
     },
     "execution_count": 4,
     "metadata": {},
     "output_type": "execute_result"
    }
   ],
   "source": [
    "agent.run(\"Who are some notable contributors to the Wikipedia page on 'Quantum Physics'?\")"
   ]
  }
 ],
 "metadata": {
  "kernelspec": {
   "display_name": "Python 3 (ipykernel)",
   "language": "python",
   "name": "python3"
  },
  "language_info": {
   "codemirror_mode": {
    "name": "ipython",
    "version": 3
   },
   "file_extension": ".py",
   "mimetype": "text/x-python",
   "name": "python",
   "nbconvert_exporter": "python",
   "pygments_lexer": "ipython3",
   "version": "3.11.0"
  }
 },
 "nbformat": 4,
 "nbformat_minor": 5
}
